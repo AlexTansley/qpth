{
 "cells": [
  {
   "cell_type": "markdown",
   "metadata": {},
   "source": [
    "# OptNet/qpth Example Notebook\n",
    "\n",
    "*Brandon Amos and J. Zico Kolter*\n",
    "\n",
    "---\n",
    "\n",
    "This notebook is released along with our paper\n",
    "[OptNet: Differentiable Optimization as a Layer in Neural Networks](https://arxiv.org/abs/1703.00443).\n",
    "\n",
    "This notebook shows a minimal example of constructing an\n",
    "OptNet layer in PyTorch with our [qpth library](https://github.com/locuslab/qpth).\n",
    "See [our qpth documentation page](https://locuslab.github.io/qpth/)\n",
    "for more details.\n",
    "The experiments for our paper that use this library are in\n",
    "[this repo](https://github.com/locuslab/optnet).\n",
    "\n",
    "\n",
    "## Setup and Dependencies\n",
    "\n",
    "+ Python/numpy/[PyTorch](https://pytorch.org)\n",
    "+ [qpth](https://github.com/locuslab/qpth):\n",
    "  *Our fast QP solver for PyTorch released in conjunction with this paper.*\n",
    "+ [bamos/block](https://github.com/bamos/block):\n",
    "  *Our intelligent block matrix library for numpy, PyTorch, and beyond.*\n",
    "+ Optional: [bamos/setGPU](https://github.com/bamos/setGPU):\n",
    "  A small library to set `CUDA_VISIBLE_DEVICES` on multi-GPU systems."
   ]
  },
  {
   "cell_type": "code",
   "execution_count": 1,
   "metadata": {
    "collapsed": true
   },
   "outputs": [],
   "source": [
    "import torch\n",
    "\n",
    "import torch.nn as nn\n",
    "from torch.autograd import Function, Variable\n",
    "from torch.nn.parameter import Parameter\n",
    "import torch.nn.functional as F\n",
    "\n",
    "from qpth.qp import QPFunction\n",
    "\n",
    "import matplotlib as mpl\n",
    "import matplotlib.pyplot as plt\n",
    "plt.style.use('bmh')\n",
    "%matplotlib inline"
   ]
  },
  {
   "cell_type": "markdown",
   "metadata": {},
   "source": [
    "# Define the model\n",
    "\n",
    "+ We'll be using a network architecture that looks like:\n",
    "\n",
    "```\n",
    "FC-ReLU-(BN)-FC-ReLU-(BN)-QP-softmax\n",
    "```\n",
    "\n",
    "where the QP OptNet layer learns the coefficients `Q`, `q`, `G`, and `h` for\n",
    "a QP with inequality constraints:\n",
    "\n",
    "```\n",
    "z_{i+1} = argmin_z 0.5 z^T Q z + q^t z\n",
    "          s.t. Gz <= h\n",
    "```"
   ]
  },
  {
   "cell_type": "code",
   "execution_count": 2,
   "metadata": {
    "collapsed": true
   },
   "outputs": [],
   "source": [
    "class OptNet(nn.Module):\n",
    "    def __init__(self, nFeatures, nHidden, nCls, bn, nineq=200, neq=0, eps=1e-4):\n",
    "        super().__init__()\n",
    "        self.nFeatures = nFeatures\n",
    "        self.nHidden = nHidden\n",
    "        self.bn = bn\n",
    "        self.nCls = nCls\n",
    "        self.nineq = nineq\n",
    "        self.neq = neq\n",
    "        self.eps = eps\n",
    "\n",
    "        # Normal BN/FC layers.\n",
    "        if bn:\n",
    "            self.bn1 = nn.BatchNorm1d(nHidden)\n",
    "            self.bn2 = nn.BatchNorm1d(nCls)\n",
    "\n",
    "        self.fc1 = nn.Linear(nFeatures, nHidden)\n",
    "        self.fc2 = nn.Linear(nHidden, nCls)\n",
    "\n",
    "        # QP params.\n",
    "        self.M = Variable(torch.tril(torch.ones(nCls, nCls)).cuda())\n",
    "        self.L = Parameter(torch.tril(torch.rand(nCls, nCls).cuda()))\n",
    "        self.G = Parameter(torch.Tensor(nineq,nCls).uniform_(-1,1).cuda())\n",
    "        self.z0 = Parameter(torch.zeros(nCls).cuda())\n",
    "        self.s0 = Parameter(torch.ones(nineq).cuda())\n",
    "\n",
    "    def forward(self, x):\n",
    "        nBatch = x.size(0)\n",
    "\n",
    "        # Normal FC network.\n",
    "        x = x.view(nBatch, -1)\n",
    "        x = F.relu(self.fc1(x))\n",
    "        if self.bn:\n",
    "            x = self.bn1(x)\n",
    "        x = F.relu(self.fc2(x))\n",
    "        if self.bn:\n",
    "            x = self.bn2(x)\n",
    "\n",
    "        # Set up the qp parameters Q=LL^T and h = Gz_0+s_0.\n",
    "        L = self.M*self.L\n",
    "        Q = L.mm(L.t()) + self.eps*Variable(torch.eye(self.nCls)).cuda()\n",
    "        h = self.G.mv(self.z0)+self.s0\n",
    "        e = Variable(torch.Tensor())\n",
    "        x = QPFunction(verbose=-1)(Q, x, self.G, h, e, e)\n",
    "\n",
    "        return F.log_softmax(x)"
   ]
  },
  {
   "cell_type": "markdown",
   "metadata": {},
   "source": [
    "# Train the network\n",
    "\n",
    "+ Create random data for a regression task and then optimize the parameters with Adam."
   ]
  },
  {
   "cell_type": "code",
   "execution_count": 3,
   "metadata": {
    "collapsed": true
   },
   "outputs": [],
   "source": [
    "# Create random data\n",
    "nBatch, nFeatures, nHidden, nCls = 16, 20, 20, 2\n",
    "x = Variable(torch.randn(nBatch, nFeatures).cuda(), requires_grad=False)\n",
    "y = Variable((torch.rand(nBatch) < 0.5).long().cuda(), requires_grad=False)"
   ]
  },
  {
   "cell_type": "code",
   "execution_count": 4,
   "metadata": {},
   "outputs": [
    {
     "name": "stdout",
     "output_type": "stream",
     "text": [
      "Iteration 0, loss = 0.73\n",
      "Iteration 25, loss = 0.69\n",
      "Iteration 50, loss = 0.65\n",
      "Iteration 75, loss = 0.57\n",
      "Iteration 100, loss = 0.57\n",
      "Iteration 125, loss = 0.56\n",
      "Iteration 150, loss = 0.51\n",
      "Iteration 175, loss = 0.50\n",
      "Iteration 200, loss = 0.49\n",
      "Iteration 225, loss = 0.48\n",
      "Iteration 250, loss = 0.47\n",
      "Iteration 275, loss = 0.46\n",
      "Iteration 300, loss = 0.45\n",
      "Iteration 325, loss = 0.45\n",
      "Iteration 350, loss = 0.45\n",
      "Iteration 375, loss = 0.45\n",
      "Iteration 400, loss = 0.43\n",
      "Iteration 425, loss = 0.42\n",
      "Iteration 450, loss = 0.42\n",
      "Iteration 475, loss = 0.41\n"
     ]
    }
   ],
   "source": [
    "# Initialize the model.\n",
    "model = OptNet(nFeatures, nHidden, nCls, bn=False).cuda()\n",
    "loss_fn = torch.nn.CrossEntropyLoss()\n",
    "\n",
    "# Initialize the optimizer.\n",
    "learning_rate = 1e-3\n",
    "optimizer = torch.optim.Adam(model.parameters(), lr=learning_rate)\n",
    "\n",
    "losses = []\n",
    "for t in range(500):\n",
    "    # Forward pass: compute predicted y by passing x to the model.\n",
    "    y_pred = model(x)\n",
    "\n",
    "    # Compute and print loss.\n",
    "    loss = loss_fn(y_pred, y)\n",
    "    if t % 25 == 0:\n",
    "        print('Iteration {}, loss = {:.2f}'.format(t, loss.data[0]))\n",
    "    losses.append(loss.data[0])\n",
    "\n",
    "    # Before the backward pass, use the optimizer object to zero all of the\n",
    "    # gradients for the variables it will update (which are the learnable weights\n",
    "    # of the model)\n",
    "    optimizer.zero_grad()\n",
    "\n",
    "    # Backward pass: compute gradient of the loss with respect to model\n",
    "    # parameters\n",
    "    loss.backward()\n",
    "\n",
    "    # Calling the step function on an Optimizer makes an update to its\n",
    "    # parameters\n",
    "    optimizer.step()"
   ]
  },
  {
   "cell_type": "code",
   "execution_count": 6,
   "metadata": {},
   "outputs": [
    {
     "data": {
      "text/plain": [
       "(0.0, 0.75834574848413472)"
      ]
     },
     "execution_count": 6,
     "metadata": {},
     "output_type": "execute_result"
    },
    {
     "data": {
      "image/png": "[encoded data removed]",
      "text/plain": [
       "<matplotlib.figure.Figure at 0x7fe529d48e80>"
      ]
     },
     "metadata": {},
     "output_type": "display_data"
    }
   ],
   "source": [
    "plt.plot(losses)\n",
    "plt.ylabel('Cross Entropy Loss')\n",
    "plt.xlabel('Iteration')\n",
    "plt.ylim(ymin=0.)"
   ]
  },
  {
   "cell_type": "code",
   "execution_count": null,
   "metadata": {
    "collapsed": true
   },
   "outputs": [],
   "source": []
  }
 ],
 "metadata": {
  "kernelspec": {
   "display_name": "Python 3",
   "language": "python",
   "name": "python3"
  },
  "language_info": {
   "codemirror_mode": {
    "name": "ipython",
    "version": 3
   },
   "file_extension": ".py",
   "mimetype": "text/x-python",
   "name": "python",
   "nbconvert_exporter": "python",
   "pygments_lexer": "ipython3",
   "version": "3.6.0"
  }
 },
 "nbformat": 4,
 "nbformat_minor": 2
}
